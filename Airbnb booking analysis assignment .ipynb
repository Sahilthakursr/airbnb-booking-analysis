{
 "cells": [
  {
   "cell_type": "code",
   "execution_count": 14,
   "id": "7316d939-bbb0-4d4b-82a7-3d48434cb9f7",
   "metadata": {},
   "outputs": [],
   "source": [
    "import pandas as pd\n",
    "import numpy as np\n",
    "import matplotlib.pyplot as plt\n",
    "import seaborn as sns\n",
    "airbnb = pd.read_csv('C:\\\\Users\\\\hp\\\\Downloads\\\\Airbnb NYC 2019 - Airbnb NYC 2019.csv')\n"
   ]
  },
  {
   "cell_type": "code",
   "execution_count": null,
   "id": "794307fa-5a32-41f8-85aa-ef57224221ca",
   "metadata": {},
   "outputs": [],
   "source": [
    "# Q1) Find disribution of Airbnb booking price range."
   ]
  },
  {
   "cell_type": "code",
   "execution_count": 15,
   "id": "2d1b7cee-a1b7-4378-9c3e-3ad0612a5d3d",
   "metadata": {},
   "outputs": [
    {
     "data": {
      "text/plain": [
       "Text(0.5, 1.0, 'Distribution of Price Range')"
      ]
     },
     "execution_count": 15,
     "metadata": {},
     "output_type": "execute_result"
    },
    {
     "data": {
      "text/plain": [
       "<Figure size 800x800 with 0 Axes>"
      ]
     },
     "metadata": {},
     "output_type": "display_data"
    },
    {
     "data": {
      "image/png": "[encoded data removed]",
      "text/plain": [
       "<Figure size 500x500 with 1 Axes>"
      ]
     },
     "metadata": {},
     "output_type": "display_data"
    }
   ],
   "source": [
    "plt.figure(figsize=(8,8))\n",
    "sns.displot(airbnb['price'],bins=50,kde=True)\n",
    "plt.title(\"Distribution of Price Range\")"
   ]
  },
  {
   "cell_type": "code",
   "execution_count": null,
   "id": "35e16d32-e8aa-4267-b66b-f44b7d9cf0fd",
   "metadata": {},
   "outputs": [],
   "source": [
    "# Q2) Find total listing/property count in each neighbourhood group in NYC."
   ]
  },
  {
   "cell_type": "code",
   "execution_count": 16,
   "id": "0c4cb4b3-6431-4a49-8fee-cc9c89ec2fee",
   "metadata": {},
   "outputs": [
    {
     "data": {
      "text/plain": [
       "neighbourhood_group\n",
       "Manhattan        21661\n",
       "Brooklyn         20104\n",
       "Queens            5666\n",
       "Bronx             1091\n",
       "Staten Island      373\n",
       "Name: count, dtype: int64"
      ]
     },
     "execution_count": 16,
     "metadata": {},
     "output_type": "execute_result"
    }
   ],
   "source": [
    "airbnb.neighbourhood_group.value_counts()"
   ]
  },
  {
   "cell_type": "code",
   "execution_count": null,
   "id": "93f8dfbb-9e70-4240-8565-8a94186819cb",
   "metadata": {},
   "outputs": [],
   "source": [
    "# Q3) Find the average price of listing/properties in each neighbourhood groups and also neighbourhoods."
   ]
  },
  {
   "cell_type": "code",
   "execution_count": 17,
   "id": "39ce6869-9aaf-4e8d-8867-270d4095eb92",
   "metadata": {},
   "outputs": [
    {
     "data": {
      "text/html": [
       "<div>\n",
       "<style scoped>\n",
       "    .dataframe tbody tr th:only-of-type {\n",
       "        vertical-align: middle;\n",
       "    }\n",
       "\n",
       "    .dataframe tbody tr th {\n",
       "        vertical-align: top;\n",
       "    }\n",
       "\n",
       "    .dataframe thead th {\n",
       "        text-align: right;\n",
       "    }\n",
       "</style>\n",
       "<table border=\"1\" class=\"dataframe\">\n",
       "  <thead>\n",
       "    <tr style=\"text-align: right;\">\n",
       "      <th></th>\n",
       "      <th>median</th>\n",
       "      <th>mean</th>\n",
       "    </tr>\n",
       "    <tr>\n",
       "      <th>neighbourhood_group</th>\n",
       "      <th></th>\n",
       "      <th></th>\n",
       "    </tr>\n",
       "  </thead>\n",
       "  <tbody>\n",
       "    <tr>\n",
       "      <th>Manhattan</th>\n",
       "      <td>150.0</td>\n",
       "      <td>196.875814</td>\n",
       "    </tr>\n",
       "    <tr>\n",
       "      <th>Brooklyn</th>\n",
       "      <td>90.0</td>\n",
       "      <td>124.383207</td>\n",
       "    </tr>\n",
       "    <tr>\n",
       "      <th>Queens</th>\n",
       "      <td>75.0</td>\n",
       "      <td>99.517649</td>\n",
       "    </tr>\n",
       "    <tr>\n",
       "      <th>Staten Island</th>\n",
       "      <td>75.0</td>\n",
       "      <td>114.812332</td>\n",
       "    </tr>\n",
       "    <tr>\n",
       "      <th>Bronx</th>\n",
       "      <td>65.0</td>\n",
       "      <td>87.496792</td>\n",
       "    </tr>\n",
       "  </tbody>\n",
       "</table>\n",
       "</div>"
      ],
      "text/plain": [
       "                     median        mean\n",
       "neighbourhood_group                    \n",
       "Manhattan             150.0  196.875814\n",
       "Brooklyn               90.0  124.383207\n",
       "Queens                 75.0   99.517649\n",
       "Staten Island          75.0  114.812332\n",
       "Bronx                  65.0   87.496792"
      ]
     },
     "execution_count": 17,
     "metadata": {},
     "output_type": "execute_result"
    }
   ],
   "source": [
    "airbnb.groupby(\"neighbourhood_group\")['price'].agg(['median','mean']).sort_values('median',ascending=False)"
   ]
  },
  {
   "cell_type": "code",
   "execution_count": 18,
   "id": "8abf6c87-1914-45fc-9fdf-23391fb6a965",
   "metadata": {},
   "outputs": [
    {
     "data": {
      "text/html": [
       "<div>\n",
       "<style scoped>\n",
       "    .dataframe tbody tr th:only-of-type {\n",
       "        vertical-align: middle;\n",
       "    }\n",
       "\n",
       "    .dataframe tbody tr th {\n",
       "        vertical-align: top;\n",
       "    }\n",
       "\n",
       "    .dataframe thead th {\n",
       "        text-align: right;\n",
       "    }\n",
       "</style>\n",
       "<table border=\"1\" class=\"dataframe\">\n",
       "  <thead>\n",
       "    <tr style=\"text-align: right;\">\n",
       "      <th></th>\n",
       "      <th>median</th>\n",
       "      <th>mean</th>\n",
       "    </tr>\n",
       "    <tr>\n",
       "      <th>neighbourhood</th>\n",
       "      <th></th>\n",
       "      <th></th>\n",
       "    </tr>\n",
       "  </thead>\n",
       "  <tbody>\n",
       "    <tr>\n",
       "      <th>Fort Wadsworth</th>\n",
       "      <td>800.0</td>\n",
       "      <td>800.000000</td>\n",
       "    </tr>\n",
       "    <tr>\n",
       "      <th>Woodrow</th>\n",
       "      <td>700.0</td>\n",
       "      <td>700.000000</td>\n",
       "    </tr>\n",
       "    <tr>\n",
       "      <th>Tribeca</th>\n",
       "      <td>295.0</td>\n",
       "      <td>490.638418</td>\n",
       "    </tr>\n",
       "    <tr>\n",
       "      <th>Neponsit</th>\n",
       "      <td>274.0</td>\n",
       "      <td>274.666667</td>\n",
       "    </tr>\n",
       "    <tr>\n",
       "      <th>NoHo</th>\n",
       "      <td>250.0</td>\n",
       "      <td>295.717949</td>\n",
       "    </tr>\n",
       "    <tr>\n",
       "      <th>...</th>\n",
       "      <td>...</td>\n",
       "      <td>...</td>\n",
       "    </tr>\n",
       "    <tr>\n",
       "      <th>Corona</th>\n",
       "      <td>40.0</td>\n",
       "      <td>59.171875</td>\n",
       "    </tr>\n",
       "    <tr>\n",
       "      <th>Hunts Point</th>\n",
       "      <td>40.0</td>\n",
       "      <td>50.500000</td>\n",
       "    </tr>\n",
       "    <tr>\n",
       "      <th>New Dorp Beach</th>\n",
       "      <td>40.0</td>\n",
       "      <td>57.400000</td>\n",
       "    </tr>\n",
       "    <tr>\n",
       "      <th>Castle Hill</th>\n",
       "      <td>39.0</td>\n",
       "      <td>63.000000</td>\n",
       "    </tr>\n",
       "    <tr>\n",
       "      <th>Concord</th>\n",
       "      <td>34.5</td>\n",
       "      <td>58.192308</td>\n",
       "    </tr>\n",
       "  </tbody>\n",
       "</table>\n",
       "<p>221 rows × 2 columns</p>\n",
       "</div>"
      ],
      "text/plain": [
       "                median        mean\n",
       "neighbourhood                     \n",
       "Fort Wadsworth   800.0  800.000000\n",
       "Woodrow          700.0  700.000000\n",
       "Tribeca          295.0  490.638418\n",
       "Neponsit         274.0  274.666667\n",
       "NoHo             250.0  295.717949\n",
       "...                ...         ...\n",
       "Corona            40.0   59.171875\n",
       "Hunts Point       40.0   50.500000\n",
       "New Dorp Beach    40.0   57.400000\n",
       "Castle Hill       39.0   63.000000\n",
       "Concord           34.5   58.192308\n",
       "\n",
       "[221 rows x 2 columns]"
      ]
     },
     "execution_count": 18,
     "metadata": {},
     "output_type": "execute_result"
    }
   ],
   "source": [
    "airbnb.groupby(\"neighbourhood\")['price'].agg(['median','mean']).sort_values('median',ascending=False)"
   ]
  },
  {
   "cell_type": "code",
   "execution_count": null,
   "id": "3d193133-26ed-4c35-9fae-5afe5e0e61d5",
   "metadata": {},
   "outputs": [],
   "source": [
    "# Q4) Find top neighbourhoods and hosts by listing/property in entire NYC"
   ]
  },
  {
   "cell_type": "code",
   "execution_count": 19,
   "id": "d51acb38-98fc-46c7-8d87-5a25510db255",
   "metadata": {},
   "outputs": [
    {
     "name": "stdout",
     "output_type": "stream",
     "text": [
      "top 5 neighbourhood in  neighbourhood_group Brooklyn\n",
      "neighbourhood\n",
      "Williamsburg          3920\n",
      "Bedford-Stuyvesant    3714\n",
      "Bushwick              2465\n",
      "Crown Heights         1564\n",
      "Greenpoint            1115\n",
      "Name: count, dtype: int64\n",
      "\n",
      "top 5 neighbourhood in  neighbourhood_group Manhattan\n",
      "neighbourhood\n",
      "Harlem             2658\n",
      "Upper West Side    1971\n",
      "Hell's Kitchen     1958\n",
      "East Village       1853\n",
      "Upper East Side    1798\n",
      "Name: count, dtype: int64\n",
      "\n",
      "top 5 neighbourhood in  neighbourhood_group Queens\n",
      "neighbourhood\n",
      "Astoria             900\n",
      "Long Island City    537\n",
      "Flushing            426\n",
      "Ridgewood           423\n",
      "Sunnyside           363\n",
      "Name: count, dtype: int64\n",
      "\n",
      "top 5 neighbourhood in  neighbourhood_group Staten Island\n",
      "neighbourhood\n",
      "St. George       48\n",
      "Tompkinsville    42\n",
      "Stapleton        27\n",
      "Concord          26\n",
      "Arrochar         21\n",
      "Name: count, dtype: int64\n",
      "\n",
      "top 5 neighbourhood in  neighbourhood_group Bronx\n",
      "neighbourhood\n",
      "Kingsbridge    70\n",
      "Fordham        63\n",
      "Longwood       62\n",
      "Mott Haven     60\n",
      "Concourse      50\n",
      "Name: count, dtype: int64\n",
      "\n"
     ]
    }
   ],
   "source": [
    "neighbourhood_group=airbnb.neighbourhood_group.unique()\n",
    "for n in neighbourhood_group:\n",
    "    print(f'top 5 neighbourhood in  neighbourhood_group {n}')\n",
    "    print(airbnb.loc[airbnb['neighbourhood_group']==n]['neighbourhood'].value_counts()[:5])\n",
    "    print()"
   ]
  },
  {
   "cell_type": "code",
   "execution_count": null,
   "id": "fba80997-da91-4125-bfec-ee957bf84ce4",
   "metadata": {},
   "outputs": [],
   "source": [
    "# Q5) Find the number of active hosts per location by each neighbourhood groups."
   ]
  },
  {
   "cell_type": "code",
   "execution_count": 21,
   "id": "21e5a396-66db-473c-bd00-6200c115900e",
   "metadata": {},
   "outputs": [
    {
     "data": {
      "text/plain": [
       "host_id\n",
       "219517861    327\n",
       "107434423    232\n",
       "30283594     121\n",
       "137358866    103\n",
       "16098958      96\n",
       "12243051      96\n",
       "61391963      91\n",
       "22541573      87\n",
       "200380610     65\n",
       "7503643       52\n",
       "Name: count, dtype: int64"
      ]
     },
     "execution_count": 21,
     "metadata": {},
     "output_type": "execute_result"
    }
   ],
   "source": [
    "airbnb.host_id.value_counts().head(10)"
   ]
  },
  {
   "cell_type": "code",
   "execution_count": null,
   "id": "46acc58c-3fdd-4e59-9c01-517cefbab05d",
   "metadata": {},
   "outputs": [],
   "source": [
    " # Q6) Find the total counts of each room types in entire NYC."
   ]
  },
  {
   "cell_type": "code",
   "execution_count": 22,
   "id": "de148b2e-19df-4ed1-a518-944af6e6e534",
   "metadata": {},
   "outputs": [
    {
     "data": {
      "text/plain": [
       "room_type\n",
       "Entire home/apt    25409\n",
       "Private room       22326\n",
       "Shared room         1160\n",
       "Name: count, dtype: int64"
      ]
     },
     "execution_count": 22,
     "metadata": {},
     "output_type": "execute_result"
    }
   ],
   "source": [
    "(airbnb['room_type'].value_counts())"
   ]
  },
  {
   "cell_type": "code",
   "execution_count": null,
   "id": "b30c7410-2e4f-4c0e-af88-2cb506dbbfc8",
   "metadata": {},
   "outputs": [],
   "source": [
    "# Q7) Find stay requirement counts by minimum nights ."
   ]
  },
  {
   "cell_type": "code",
   "execution_count": 23,
   "id": "931779e6-b106-4b8e-a5af-70f1a52a7c12",
   "metadata": {},
   "outputs": [
    {
     "data": {
      "text/html": [
       "<div>\n",
       "<style scoped>\n",
       "    .dataframe tbody tr th:only-of-type {\n",
       "        vertical-align: middle;\n",
       "    }\n",
       "\n",
       "    .dataframe tbody tr th {\n",
       "        vertical-align: top;\n",
       "    }\n",
       "\n",
       "    .dataframe thead th {\n",
       "        text-align: right;\n",
       "    }\n",
       "</style>\n",
       "<table border=\"1\" class=\"dataframe\">\n",
       "  <thead>\n",
       "    <tr style=\"text-align: right;\">\n",
       "      <th></th>\n",
       "      <th>price</th>\n",
       "      <th>minimum_nights</th>\n",
       "    </tr>\n",
       "    <tr>\n",
       "      <th>neighbourhood_group</th>\n",
       "      <th></th>\n",
       "      <th></th>\n",
       "    </tr>\n",
       "  </thead>\n",
       "  <tbody>\n",
       "    <tr>\n",
       "      <th>Manhattan</th>\n",
       "      <td>150.0</td>\n",
       "      <td>3.0</td>\n",
       "    </tr>\n",
       "    <tr>\n",
       "      <th>Brooklyn</th>\n",
       "      <td>90.0</td>\n",
       "      <td>3.0</td>\n",
       "    </tr>\n",
       "    <tr>\n",
       "      <th>Queens</th>\n",
       "      <td>75.0</td>\n",
       "      <td>2.0</td>\n",
       "    </tr>\n",
       "    <tr>\n",
       "      <th>Staten Island</th>\n",
       "      <td>75.0</td>\n",
       "      <td>2.0</td>\n",
       "    </tr>\n",
       "    <tr>\n",
       "      <th>Bronx</th>\n",
       "      <td>65.0</td>\n",
       "      <td>2.0</td>\n",
       "    </tr>\n",
       "  </tbody>\n",
       "</table>\n",
       "</div>"
      ],
      "text/plain": [
       "                     price  minimum_nights\n",
       "neighbourhood_group                       \n",
       "Manhattan            150.0             3.0\n",
       "Brooklyn              90.0             3.0\n",
       "Queens                75.0             2.0\n",
       "Staten Island         75.0             2.0\n",
       "Bronx                 65.0             2.0"
      ]
     },
     "execution_count": 23,
     "metadata": {},
     "output_type": "execute_result"
    }
   ],
   "source": [
    "airbnb.groupby('neighbourhood_group').agg({'price':'median','minimum_nights':'median'}).sort_values(\"price\",ascending=False)"
   ]
  },
  {
   "cell_type": "code",
   "execution_count": null,
   "id": "7f4dcabd-09f4-4c89-be5a-9e4405ca40af",
   "metadata": {},
   "outputs": [],
   "source": [
    "# Q8) Find the total number of reviews and maximum reviews by each neighbourhood groups."
   ]
  },
  {
   "cell_type": "code",
   "execution_count": 24,
   "id": "1e5d0183-dac8-4b1c-9df6-2410d4c1d790",
   "metadata": {},
   "outputs": [
    {
     "data": {
      "text/plain": [
       "number_of_reviews\n",
       "0      10052\n",
       "1       5244\n",
       "2       3465\n",
       "3       2520\n",
       "4       1994\n",
       "       ...  \n",
       "352        1\n",
       "351        1\n",
       "341        1\n",
       "340        1\n",
       "629        1\n",
       "Name: count, Length: 394, dtype: int64"
      ]
     },
     "execution_count": 24,
     "metadata": {},
     "output_type": "execute_result"
    }
   ],
   "source": [
    "airbnb.value_counts('number_of_reviews')"
   ]
  },
  {
   "cell_type": "code",
   "execution_count": 25,
   "id": "00c295d2-ee63-4076-97e0-542a065f1164",
   "metadata": {},
   "outputs": [
    {
     "name": "stdout",
     "output_type": "stream",
     "text": [
      "             id                                               name   host_id  \\\n",
      "11759   9145202                            Room near JFK Queen Bed  47621202   \n",
      "2031     903972                         Great Bedroom in Manhattan   4734398   \n",
      "2030     903947                     Beautiful Bedroom in Manhattan   4734398   \n",
      "2015     891117                       Private Bedroom in Manhattan   4734398   \n",
      "13495  10101135                            Room Near JFK Twin Beds  47621202   \n",
      "10623   8168619                  Steps away from Laguardia airport  37312959   \n",
      "1879     834190           Manhattan Lux Loft.Like.Love.Lots.Look !   2369681   \n",
      "20403  16276632  Cozy Room Family Home LGA Airport NO CLEANING FEE  26432133   \n",
      "4870    3474320                 Private brownstone studio Brooklyn  12949460   \n",
      "471      166172                    LG Private Room/Family Friendly    792159   \n",
      "\n",
      "      host_name neighbourhood_group    neighbourhood  latitude  longitude  \\\n",
      "11759      Dona              Queens          Jamaica  40.66730  -73.76831   \n",
      "2031         Jj           Manhattan           Harlem  40.82085  -73.94025   \n",
      "2030         Jj           Manhattan           Harlem  40.82124  -73.93838   \n",
      "2015         Jj           Manhattan           Harlem  40.82264  -73.94041   \n",
      "13495      Dona              Queens          Jamaica  40.66939  -73.76975   \n",
      "10623      Maya              Queens    East Elmhurst  40.77006  -73.87683   \n",
      "1879      Carol           Manhattan  Lower East Side  40.71921  -73.99116   \n",
      "20403  Danielle              Queens    East Elmhurst  40.76335  -73.87007   \n",
      "4870        Asa            Brooklyn       Park Slope  40.67926  -73.97711   \n",
      "471       Wanda            Brooklyn         Bushwick  40.70283  -73.92131   \n",
      "\n",
      "             room_type  price  minimum_nights  number_of_reviews last_review  \\\n",
      "11759     Private room     47               1                629  2019-07-05   \n",
      "2031      Private room     49               1                607  2019-06-21   \n",
      "2030      Private room     49               1                597  2019-06-23   \n",
      "2015      Private room     49               1                594  2019-06-15   \n",
      "13495     Private room     47               1                576  2019-06-27   \n",
      "10623     Private room     46               1                543  2019-07-01   \n",
      "1879      Private room     99               2                540  2019-07-06   \n",
      "20403     Private room     48               1                510  2019-07-06   \n",
      "4870   Entire home/apt    160               1                488  2019-07-01   \n",
      "471       Private room     60               3                480  2019-07-07   \n",
      "\n",
      "       reviews_per_month  calculated_host_listings_count  availability_365  \n",
      "11759              14.58                               2               333  \n",
      "2031                7.75                               3               293  \n",
      "2030                7.72                               3               342  \n",
      "2015                7.57                               3               339  \n",
      "13495              13.40                               2               173  \n",
      "10623              11.59                               5               163  \n",
      "1879                6.95                               1               179  \n",
      "20403              16.22                               5               341  \n",
      "4870                8.14                               1               269  \n",
      "471                 6.70                               1                 0  \n"
     ]
    }
   ],
   "source": [
    "top_reviewed_listings=airbnb.nlargest(10,'number_of_reviews')\n",
    "print(top_reviewed_listings)"
   ]
  },
  {
   "cell_type": "code",
   "execution_count": 26,
   "id": "2462f753-27d9-43b8-8320-5a8a5f558e1e",
   "metadata": {},
   "outputs": [
    {
     "data": {
      "text/plain": [
       "neighbourhood_group\n",
       "Bronx            321\n",
       "Brooklyn         488\n",
       "Manhattan        607\n",
       "Queens           629\n",
       "Staten Island    333\n",
       "Name: number_of_reviews, dtype: int64"
      ]
     },
     "execution_count": 26,
     "metadata": {},
     "output_type": "execute_result"
    }
   ],
   "source": [
    "airbnb.groupby(['neighbourhood_group'])['number_of_reviews'].max()"
   ]
  },
  {
   "cell_type": "code",
   "execution_count": null,
   "id": "449be461-d92c-4445-81ec-583f5a8aeff2",
   "metadata": {},
   "outputs": [],
   "source": [
    "# Q9) Find most reviewd room type in neighbourhood groups per month."
   ]
  },
  {
   "cell_type": "code",
   "execution_count": 27,
   "id": "43919935-3a66-4e8c-be1c-b4d33abe6218",
   "metadata": {},
   "outputs": [
    {
     "data": {
      "text/plain": [
       "room_type\n",
       "Entire home/apt    15.78\n",
       "Private room       58.50\n",
       "Shared room        10.77\n",
       "Name: reviews_per_month, dtype: float64"
      ]
     },
     "execution_count": 27,
     "metadata": {},
     "output_type": "execute_result"
    }
   ],
   "source": [
    "airbnb.groupby(['room_type'])['reviews_per_month'].max()"
   ]
  },
  {
   "cell_type": "code",
   "execution_count": null,
   "id": "77236ace-ddf3-4cd9-a695-3cbf227bf662",
   "metadata": {},
   "outputs": [],
   "source": [
    "# Q10) Find best location listing/property location for travelers."
   ]
  },
  {
   "cell_type": "code",
   "execution_count": 28,
   "id": "963e7d24-4655-40a2-9cae-20c029b3e218",
   "metadata": {},
   "outputs": [
    {
     "data": {
      "text/plain": [
       "neighbourhood\n",
       "Allerton             510\n",
       "Arden Heights      29604\n",
       "Arrochar           22024\n",
       "Arverne             2922\n",
       "Astoria              257\n",
       "                   ...  \n",
       "Windsor Terrace     1000\n",
       "Woodhaven           3020\n",
       "Woodlawn             433\n",
       "Woodrow             3049\n",
       "Woodside             746\n",
       "Name: number_of_reviews, Length: 221, dtype: int64"
      ]
     },
     "execution_count": 28,
     "metadata": {},
     "output_type": "execute_result"
    }
   ],
   "source": [
    "airbnb.groupby(['neighbourhood'])['number_of_reviews'].idxmax()"
   ]
  },
  {
   "cell_type": "code",
   "execution_count": null,
   "id": "684467b9-dd70-435c-a20e-dd58b9d041c1",
   "metadata": {},
   "outputs": [],
   "source": [
    "# Q11) Find also best location listing/property location for hosts."
   ]
  },
  {
   "cell_type": "code",
   "execution_count": 30,
   "id": "6d3741cd-971b-44ca-bb2f-2c169c1bc254",
   "metadata": {},
   "outputs": [
    {
     "data": {
      "text/plain": [
       "neighbourhood\n",
       "Allerton           10781\n",
       "Arden Heights      29604\n",
       "Arrochar           20095\n",
       "Arverne             5341\n",
       "Astoria            36025\n",
       "                   ...  \n",
       "Windsor Terrace     4992\n",
       "Woodhaven          22342\n",
       "Woodlawn           30008\n",
       "Woodrow             3049\n",
       "Woodside           33471\n",
       "Name: calculated_host_listings_count, Length: 221, dtype: int64"
      ]
     },
     "execution_count": 30,
     "metadata": {},
     "output_type": "execute_result"
    }
   ],
   "source": [
    "airbnb.groupby(['neighbourhood'])['calculated_host_listings_count'].idxmax()"
   ]
  },
  {
   "cell_type": "code",
   "execution_count": null,
   "id": "960dfe21-a8f4-464d-97de-4fda52b1b437",
   "metadata": {},
   "outputs": [],
   "source": [
    "# Q12) Find price variations in NYC neighbourhood groups."
   ]
  },
  {
   "cell_type": "code",
   "execution_count": 32,
   "id": "f33457f0-027b-4eee-9d03-e685ad7a3c61",
   "metadata": {},
   "outputs": [
    {
     "data": {
      "text/plain": [
       "<Axes: xlabel='price', ylabel='count'>"
      ]
     },
     "execution_count": 32,
     "metadata": {},
     "output_type": "execute_result"
    },
    {
     "data": {
      "image/png": "[encoded data removed]",
      "text/plain": [
       "<Figure size 640x480 with 1 Axes>"
      ]
     },
     "metadata": {},
     "output_type": "display_data"
    }
   ],
   "source": [
    "sns.countplot(x='price',hue='neighbourhood_group',data=airbnb)"
   ]
  },
  {
   "cell_type": "code",
   "execution_count": null,
   "id": "f05f4199-aafc-415f-ae76-88bd08c7b3f1",
   "metadata": {},
   "outputs": [],
   "source": []
  }
 ],
 "metadata": {
  "kernelspec": {
   "display_name": "Python 3 (ipykernel)",
   "language": "python",
   "name": "python3"
  },
  "language_info": {
   "codemirror_mode": {
    "name": "ipython",
    "version": 3
   },
   "file_extension": ".py",
   "mimetype": "text/x-python",
   "name": "python",
   "nbconvert_exporter": "python",
   "pygments_lexer": "ipython3",
   "version": "3.12.0"
  }
 },
 "nbformat": 4,
 "nbformat_minor": 5
}
